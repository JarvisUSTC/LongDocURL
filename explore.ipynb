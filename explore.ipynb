{
 "cells": [
  {
   "cell_type": "code",
   "execution_count": 1,
   "metadata": {},
   "outputs": [],
   "source": [
    "import json\n",
    "\n",
    "def parse_jsonl(file_path):\n",
    "    data = []\n",
    "    with open(file_path, 'r') as file:\n",
    "        for line in file:\n",
    "            data.append(json.loads(line))\n",
    "    return data\n",
    "\n",
    "path = \"data/LongDocURL_public.jsonl\"\n",
    "data = parse_jsonl(path)\n"
   ]
  },
  {
   "cell_type": "code",
   "execution_count": 3,
   "metadata": {},
   "outputs": [
    {
     "data": {
      "text/plain": [
       "dict_keys(['question_id', 'doc_no', 'total_pages', 'start_end_idx', 'question_type', 'question', 'answer', 'detailed_evidences', 'evidence_pages', 'evidence_sources', 'answer_format', 'task_tag', 'images', 'pdf_path'])"
      ]
     },
     "execution_count": 3,
     "metadata": {},
     "output_type": "execute_result"
    }
   ],
   "source": [
    "data[0].keys()"
   ]
  },
  {
   "cell_type": "code",
   "execution_count": 8,
   "metadata": {},
   "outputs": [
    {
     "data": {
      "text/plain": [
       "{'question_id': 'topic2title_4125651_5_9_3',\n",
       " 'doc_no': '4125651',\n",
       " 'total_pages': 104,\n",
       " 'start_end_idx': [5, 9],\n",
       " 'question_type': 'topic2title',\n",
       " 'question': 'Which titles would provide insights into the importance of light efficiency and quality metrics in lighting products?\\nSelect titles from the doc that best answer the question, do not alter or analyze the titles themselves.',\n",
       " 'answer': ['Uiterst hoge lichtefficientie (tot meer dan 100Lm/W)',\n",
       "  'dimmable2.200KI 2.600K CRI95',\n",
       "  'ambient-dimmable2.000K·2.900KCRI95'],\n",
       " 'detailed_evidences': '',\n",
       " 'evidence_pages': [5, 9],\n",
       " 'evidence_sources': ['Layout'],\n",
       " 'answer_format': 'List',\n",
       " 'task_tag': 'Locating',\n",
       " 'images': ['/data/oss_bucket_0/achao.dc/public_datasets/pdf_pngs/4000-4999/4125/4125651_0.png',\n",
       "  '/data/oss_bucket_0/achao.dc/public_datasets/pdf_pngs/4000-4999/4125/4125651_1.png',\n",
       "  '/data/oss_bucket_0/achao.dc/public_datasets/pdf_pngs/4000-4999/4125/4125651_2.png',\n",
       "  '/data/oss_bucket_0/achao.dc/public_datasets/pdf_pngs/4000-4999/4125/4125651_3.png',\n",
       "  '/data/oss_bucket_0/achao.dc/public_datasets/pdf_pngs/4000-4999/4125/4125651_4.png',\n",
       "  '/data/oss_bucket_0/achao.dc/public_datasets/pdf_pngs/4000-4999/4125/4125651_5.png',\n",
       "  '/data/oss_bucket_0/achao.dc/public_datasets/pdf_pngs/4000-4999/4125/4125651_6.png',\n",
       "  '/data/oss_bucket_0/achao.dc/public_datasets/pdf_pngs/4000-4999/4125/4125651_7.png',\n",
       "  '/data/oss_bucket_0/achao.dc/public_datasets/pdf_pngs/4000-4999/4125/4125651_8.png',\n",
       "  '/data/oss_bucket_0/achao.dc/public_datasets/pdf_pngs/4000-4999/4125/4125651_9.png',\n",
       "  '/data/oss_bucket_0/achao.dc/public_datasets/pdf_pngs/4000-4999/4125/4125651_10.png',\n",
       "  '/data/oss_bucket_0/achao.dc/public_datasets/pdf_pngs/4000-4999/4125/4125651_11.png',\n",
       "  '/data/oss_bucket_0/achao.dc/public_datasets/pdf_pngs/4000-4999/4125/4125651_12.png',\n",
       "  '/data/oss_bucket_0/achao.dc/public_datasets/pdf_pngs/4000-4999/4125/4125651_13.png',\n",
       "  '/data/oss_bucket_0/achao.dc/public_datasets/pdf_pngs/4000-4999/4125/4125651_14.png',\n",
       "  '/data/oss_bucket_0/achao.dc/public_datasets/pdf_pngs/4000-4999/4125/4125651_15.png',\n",
       "  '/data/oss_bucket_0/achao.dc/public_datasets/pdf_pngs/4000-4999/4125/4125651_16.png',\n",
       "  '/data/oss_bucket_0/achao.dc/public_datasets/pdf_pngs/4000-4999/4125/4125651_17.png',\n",
       "  '/data/oss_bucket_0/achao.dc/public_datasets/pdf_pngs/4000-4999/4125/4125651_18.png',\n",
       "  '/data/oss_bucket_0/achao.dc/public_datasets/pdf_pngs/4000-4999/4125/4125651_19.png',\n",
       "  '/data/oss_bucket_0/achao.dc/public_datasets/pdf_pngs/4000-4999/4125/4125651_20.png',\n",
       "  '/data/oss_bucket_0/achao.dc/public_datasets/pdf_pngs/4000-4999/4125/4125651_21.png',\n",
       "  '/data/oss_bucket_0/achao.dc/public_datasets/pdf_pngs/4000-4999/4125/4125651_22.png',\n",
       "  '/data/oss_bucket_0/achao.dc/public_datasets/pdf_pngs/4000-4999/4125/4125651_23.png',\n",
       "  '/data/oss_bucket_0/achao.dc/public_datasets/pdf_pngs/4000-4999/4125/4125651_24.png',\n",
       "  '/data/oss_bucket_0/achao.dc/public_datasets/pdf_pngs/4000-4999/4125/4125651_25.png',\n",
       "  '/data/oss_bucket_0/achao.dc/public_datasets/pdf_pngs/4000-4999/4125/4125651_26.png',\n",
       "  '/data/oss_bucket_0/achao.dc/public_datasets/pdf_pngs/4000-4999/4125/4125651_27.png',\n",
       "  '/data/oss_bucket_0/achao.dc/public_datasets/pdf_pngs/4000-4999/4125/4125651_28.png',\n",
       "  '/data/oss_bucket_0/achao.dc/public_datasets/pdf_pngs/4000-4999/4125/4125651_29.png'],\n",
       " 'pdf_path': '/data/oss_bucket_0/achao.dc/public_datasets/ccpdf_zip/4000-4999/4125651.pdf'}"
      ]
     },
     "execution_count": 8,
     "metadata": {},
     "output_type": "execute_result"
    }
   ],
   "source": [
    "data[1]"
   ]
  },
  {
   "cell_type": "code",
   "execution_count": null,
   "metadata": {},
   "outputs": [],
   "source": []
  }
 ],
 "metadata": {
  "kernelspec": {
   "display_name": "ColPali",
   "language": "python",
   "name": "python3"
  },
  "language_info": {
   "codemirror_mode": {
    "name": "ipython",
    "version": 3
   },
   "file_extension": ".py",
   "mimetype": "text/x-python",
   "name": "python",
   "nbconvert_exporter": "python",
   "pygments_lexer": "ipython3",
   "version": "3.11.0"
  }
 },
 "nbformat": 4,
 "nbformat_minor": 2
}
